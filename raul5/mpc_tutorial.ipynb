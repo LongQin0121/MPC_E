{
 "cells": [
  {
   "cell_type": "code",
   "execution_count": 3,
   "id": "aa57c8cd",
   "metadata": {},
   "outputs": [],
   "source": [
    "from casadi import *\n",
    "\n",
    "n = 2 # state dimension\n",
    "m = 1 # control dimension\n",
    "K = 100 # prediction horizon\n",
    "\n",
    "# an arbitrary initial state\n",
    "x_bar = np.array([[0.5],[0.5]]) # 2 x 1 vector\n",
    "\n",
    "# Linear cost matrices (we'll just use identities)\n",
    "Q = np.array([[1. , 0],\n",
    "            [0. , 1. ]])\n",
    "R = np.array([[1]])\n",
    "Q_K = Q\n",
    "\n",
    "# Constraints for all k\n",
    "u_max = 1\n",
    "x_1_max = 1\n",
    "x_1_min = -1"
   ]
  },
  {
   "cell_type": "code",
   "execution_count": 4,
   "id": "c8791842",
   "metadata": {},
   "outputs": [],
   "source": [
    "opti = Opti()\n",
    "\n",
    "x_tot = opti.variable(n, K+1)  # State trajectory\n",
    "u_tot = opti.variable(m, K)    # Control trajectory\n"
   ]
  },
  {
   "cell_type": "code",
   "execution_count": 7,
   "id": "eec6d986",
   "metadata": {},
   "outputs": [],
   "source": [
    "def get_x_next_linear(x, u):\n",
    "    # Linear system\n",
    "    A = np.array([[1. , 0.1],\n",
    "                [0. , 1. ]])\n",
    "    B = np.array([[0.005],\n",
    "                  [0.1  ]])\n",
    "    \n",
    "    return mtimes(A, x) + mtimes(B, u)"
   ]
  },
  {
   "cell_type": "code",
   "execution_count": 8,
   "id": "2ca5bf10",
   "metadata": {},
   "outputs": [],
   "source": [
    "# Specify the initial condition\n",
    "opti.subject_to(x_tot[:, 0] == x_bar)\n",
    "\n",
    "cost = 0\n",
    "for k in range(K):\n",
    "    # add dynamic constraints\n",
    "    x_tot_next = get_x_next_linear(x_tot[:, k], u_tot[:, k])\n",
    "    opti.subject_to(x_tot[:, k+1] == x_tot_next)\n",
    "\n",
    "    # add to the cost\n",
    "    cost += mtimes([x_tot[:,k].T, Q, x_tot[:,k]]) + mtimes([u_tot[:,k].T, R, u_tot[:,k]])\n",
    "\n",
    "# terminal cost\n",
    "cost += mtimes([x_tot[:,K].T, Q_K, x_tot[:,K]])"
   ]
  },
  {
   "cell_type": "code",
   "execution_count": 9,
   "id": "a5bb3256",
   "metadata": {},
   "outputs": [],
   "source": [
    "# constrain the control\n",
    "opti.subject_to(opti.bounded(-u_max, u_tot, u_max))\n",
    "\n",
    "# constrain the position only\n",
    "opti.subject_to(opti.bounded(x_1_min, x_tot[0,:], x_1_max))"
   ]
  },
  {
   "cell_type": "code",
   "execution_count": 10,
   "id": "c6e8e3a4",
   "metadata": {},
   "outputs": [
    {
     "name": "stdout",
     "output_type": "stream",
     "text": [
      "\n",
      "******************************************************************************\n",
      "This program contains Ipopt, a library for large-scale nonlinear optimization.\n",
      " Ipopt is released as open source code under the Eclipse Public License (EPL).\n",
      "         For more information visit https://github.com/coin-or/Ipopt\n",
      "******************************************************************************\n",
      "\n"
     ]
    }
   ],
   "source": [
    "# Say we want to minimise the cost and specify the solver (ipopt)\n",
    "opts = {\"ipopt.print_level\": 0, \"print_time\": 0}\n",
    "opti.minimize(cost)\n",
    "opti.solver(\"ipopt\", opts)\n",
    "    \n",
    "solution = opti.solve()\n",
    "\n",
    "# Get solution\n",
    "x_opt = solution.value(x_tot)\n",
    "u_opt = solution.value(u_tot)"
   ]
  },
  {
   "cell_type": "code",
   "execution_count": 15,
   "id": "bcaa6ac9",
   "metadata": {},
   "outputs": [
    {
     "name": "stdout",
     "output_type": "stream",
     "text": [
      "(2, 101)\n",
      "(100,)\n"
     ]
    }
   ],
   "source": [
    "print(x_opt.shape)\n",
    "print(u_opt.shape)"
   ]
  },
  {
   "cell_type": "code",
   "execution_count": null,
   "id": "88056d98",
   "metadata": {},
   "outputs": [],
   "source": []
  },
  {
   "cell_type": "code",
   "execution_count": null,
   "id": "3acdb61a",
   "metadata": {},
   "outputs": [],
   "source": []
  },
  {
   "cell_type": "code",
   "execution_count": null,
   "id": "30fddd2d",
   "metadata": {},
   "outputs": [],
   "source": []
  },
  {
   "cell_type": "code",
   "execution_count": null,
   "id": "fdfe24bd",
   "metadata": {},
   "outputs": [],
   "source": [
    "def solve_OCP(x_bar, K):\n",
    "    \n",
    "    n = 2 # state dimension\n",
    "    m = 1 # control dimension\n",
    "    K = 100 # prediction horizon\n",
    "\n",
    "    # an arbitrary initial state\n",
    "    x_bar = np.array([[0.5],[0.5]]) # 2 x 1 vector\n",
    "\n",
    "    # Linear cost matrices (we'll just use identities)\n",
    "    Q = np.array([[1. , 0],\n",
    "                [0. , 1. ]])\n",
    "    R = np.array([[1]])\n",
    "    Q_K = Q\n",
    "\n",
    "    # Constraints for all k\n",
    "    u_max = 1\n",
    "    x_1_max = 1\n",
    "    x_1_min = -1\n",
    "\n",
    "    opti = Opti()\n",
    "\n",
    "    x_tot = opti.variable(n, K+1)  # State trajectory\n",
    "    u_tot = opti.variable(m, K)    # Control trajectory\n",
    "\n",
    "    def get_x_next_linear(x, u):\n",
    "        # Linear system\n",
    "        A = np.array([[1. , 0.1],\n",
    "                    [0. , 1. ]])\n",
    "        B = np.array([[0.005],\n",
    "                    [0.1  ]])\n",
    "        \n",
    "        return mtimes(A, x) + mtimes(B, u)\n",
    "\n",
    "    # Specify the initial condition\n",
    "    opti.subject_to(x_tot[:, 0] == x_bar)\n",
    "\n",
    "    cost = 0\n",
    "    for k in range(K):\n",
    "        # add dynamic constraints\n",
    "        x_tot_next = get_x_next_linear(x_tot[:, k], u_tot[:, k])\n",
    "        opti.subject_to(x_tot[:, k+1] == x_tot_next)\n",
    "\n",
    "        # add to the cost\n",
    "        cost += mtimes([x_tot[:,k].T, Q, x_tot[:,k]]) + mtimes([u_tot[:,k].T, R, u_tot[:,k]])\n",
    "\n",
    "    # terminal cost\n",
    "    cost += mtimes([x_tot[:,K].T, Q_K, x_tot[:,K]])\n",
    "\n",
    "    # constrain the control\n",
    "    opti.subject_to(opti.bounded(-u_max, u_tot, u_max))\n",
    "\n",
    "    # constrain the position only\n",
    "    opti.subject_to(opti.bounded(x_1_min, x_tot[0,:], x_1_max))\n",
    "\n",
    "    # Say we want to minimise the cost and specify the solver (ipopt)\n",
    "    opts = {\"ipopt.print_level\": 0, \"print_time\": 0}\n",
    "    opti.minimize(cost)\n",
    "    opti.solver(\"ipopt\", opts)\n",
    "        \n",
    "    solution = opti.solve()\n",
    "\n",
    "    # Get solution\n",
    "    x_opt = solution.value(x_tot)\n",
    "    u_opt = solution.value(u_tot)\n",
    "\n",
    "    return x_opt, u_opt"
   ]
  }
 ],
 "metadata": {
  "kernelspec": {
   "display_name": "atc_sim",
   "language": "python",
   "name": "python3"
  },
  "language_info": {
   "codemirror_mode": {
    "name": "ipython",
    "version": 3
   },
   "file_extension": ".py",
   "mimetype": "text/x-python",
   "name": "python",
   "nbconvert_exporter": "python",
   "pygments_lexer": "ipython3",
   "version": "3.12.11"
  }
 },
 "nbformat": 4,
 "nbformat_minor": 5
}
