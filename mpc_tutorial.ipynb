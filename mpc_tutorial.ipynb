{
 "cells": [
  {
   "cell_type": "markdown",
   "id": "bd59ebfb",
   "metadata": {},
   "source": [
    "# Model Predictive Control Basics\n",
    "## A hands-on tutorial with Python and CasADi\n",
    "\n",
    "Willem Esterhuizen\n",
    "Aug 12, 2025\n",
    "\n",
    "## Quick Summary\n",
    "\n",
    "Cover the basic ideas.\n",
    "Code up a solver in Python.\n",
    "Play with a simple linear system: the double integrator.\n",
    "Get all the code here: https://github.com/willem-daniel-esterhuizen/MPC_tutorial\n",
    "\n"
   ]
  },
  {
   "cell_type": "code",
   "execution_count": 1,
   "id": "ba33d993",
   "metadata": {},
   "outputs": [],
   "source": [
    "from casadi import *\n",
    "\n",
    "n = 2 # state dimension\n",
    "m = 1 # control dimension\n",
    "K = 100 # prediction horizon\n",
    "\n",
    "# an arbitrary initial state\n",
    "x_bar = np.array([[0.5],[0.5]]) # 2 x 1 vector\n",
    "\n",
    "# Linear cost matrices (we'll just use identities)\n",
    "Q = np.array([[1. , 0],\n",
    "            [0. , 1. ]])\n",
    "R = np.array([[1]])\n",
    "Q_K = Q\n",
    "\n",
    "# Constraints for all k\n",
    "u_max = 1\n",
    "x_1_max = 1\n",
    "x_1_min = -1"
   ]
  },
  {
   "cell_type": "code",
   "execution_count": 2,
   "id": "4c8b6d41",
   "metadata": {},
   "outputs": [],
   "source": [
    "opti = Opti()\n",
    "\n",
    "x_tot = opti.variable(n, K+1)  # State trajectory\n",
    "u_tot = opti.variable(m, K)    # Control trajectory"
   ]
  },
  {
   "cell_type": "code",
   "execution_count": null,
   "id": "3a93f6a6",
   "metadata": {},
   "outputs": [],
   "source": [
    "def get_x_next_linear(x, u):\n",
    "    # Linear system\n",
    "    A = np.array([[1. , 0.1],\n",
    "                [0. , 1. ]])\n",
    "    B = np.array([[0.005],\n",
    "                  [0.1  ]])\n",
    "    \n",
    "    return mtimes(A, x) + mtimes(B, u)   "
   ]
  },
  {
   "cell_type": "code",
   "execution_count": 6,
   "id": "0d0b2f41",
   "metadata": {},
   "outputs": [],
   "source": [
    "# Specify the initial condition\n",
    "opti.subject_to(x_tot[:, 0] == x_bar)\n",
    "\n",
    "cost = 0\n",
    "for k in range(K):\n",
    "    # add dynamic constraints\n",
    "    x_tot_next = get_x_next_linear(x_tot[:, k], u_tot[:, k])\n",
    "    opti.subject_to(x_tot[:, k+1] == x_tot_next)\n",
    "\n",
    "    # add to the cost\n",
    "    cost += mtimes([x_tot[:,k].T, Q, x_tot[:,k]]) + mtimes([u_tot[:,k].T, R, u_tot[:,k]])\n",
    "\n",
    "# terminal cost\n",
    "cost += mtimes([x_tot[:,K].T, Q_K, x_tot[:,K]])\n"
   ]
  }
 ],
 "metadata": {
  "kernelspec": {
   "display_name": "atc_sim",
   "language": "python",
   "name": "python3"
  },
  "language_info": {
   "codemirror_mode": {
    "name": "ipython",
    "version": 3
   },
   "file_extension": ".py",
   "mimetype": "text/x-python",
   "name": "python",
   "nbconvert_exporter": "python",
   "pygments_lexer": "ipython3",
   "version": "3.12.11"
  }
 },
 "nbformat": 4,
 "nbformat_minor": 5
}
